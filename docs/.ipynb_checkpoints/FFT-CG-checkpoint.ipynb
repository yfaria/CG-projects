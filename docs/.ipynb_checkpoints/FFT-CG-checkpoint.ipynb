{
 "cells": [
  {
   "cell_type": "code",
   "execution_count": 2,
   "metadata": {},
   "outputs": [],
   "source": [
    "import numpy as np\n",
    "import cv2\n",
    "import numpy as np\n",
    "from matplotlib import pyplot as plt\n",
    "%matplotlib inline"
   ]
  },
  {
   "cell_type": "code",
   "execution_count": 3,
   "metadata": {},
   "outputs": [],
   "source": [
    "def getRoundSquare(n):\n",
    "    i = 0\n",
    "    m = n\n",
    "    while (m != 1):\n",
    "        m = m >> 1\n",
    "        i = i + 1\n",
    "    if (n == (1 << i)):\n",
    "        return i\n",
    "    return i+1"
   ]
  },
  {
   "cell_type": "code",
   "execution_count": 4,
   "metadata": {},
   "outputs": [],
   "source": [
    "def complexUnityRoots(n):\n",
    "    #gives and array of n complex unity roots clockwise;\n",
    "    #n is multiple of 4\n",
    "    W = np.empty(n, dtype=complex)\n",
    "    for i in range(n >> 2) :\n",
    "        W[i] = np.complex(str(np.cos((2*np.pi*i) / n)) + \"+\" + str(np.sin((2*np.pi*i) / n)) + \"j\")\n",
    "        W[i + (n >> 1)] = - W[i]\n",
    "        W[i + (n >> 2)] = np.complex(str(-W[i].imag) + \"+\" + str(W[i].real) +\"j\")\n",
    "        W[i + (n >> 2) + (n >> 1)] = -W[i + (n >> 2)]\n",
    "    W[1:] = W[1:][::-1]\n",
    "    return W"
   ]
  },
  {
   "cell_type": "code",
   "execution_count": 5,
   "metadata": {},
   "outputs": [],
   "source": [
    "def fft2(x):\n",
    "    if x.size == 1:\n",
    "        return x\n",
    "    if x.size == 2:\n",
    "        return recFFT2(x, 0, 2, np.array([-1,1], dtype=complex))\n",
    "    n = getRoundSquare(x.size)\n",
    "    W = np.empty(1 << n, dtype=complex)\n",
    "    for i in range((1 << n) >> 2) :\n",
    "        W[i] = np.complex(str(np.cos((2*np.pi*i) / (1 << n))) + \"+\" + str(np.sin((2*np.pi*i) / (1 << n))) + \"j\")\n",
    "        W[i + ((1 << n) >> 1)] = - W[i]\n",
    "        W[i + ((1 << n) >> 2)] = np.complex(str(-W[i].imag) + \"+\" + str(W[i].real) +\"j\")\n",
    "        W[i + ((1 << n) >> 2) + ((1 << n) >> 1)] = -W[i + ((1 << n) >> 2)]\n",
    "    print(W)\n",
    "    return recFFT2(x, 0, 1<<n, W)\n",
    "\n",
    "def recFFT2(x, n, n0, W):\n",
    "    #n0 é tamanho inicial\n",
    "    #W são todas as raízes n0 raízes da unidade\n",
    "    if (x.size == 1) :\n",
    "        return x\n",
    "    impares = np.empty(x.size >> 1, dtype=complex)\n",
    "    pares = np.empty(x.size >> 1, dtype=complex)\n",
    "    res = np.empty(x.size, dtype=complex)\n",
    "    for i in range(x.size) :\n",
    "        if (i - ((i >> 1) << 1)) :\n",
    "            impares[i >> 1] = x[i]\n",
    "        else :\n",
    "            pares[(i >> 1)] = x[i]\n",
    "    res1 = recFFT2(pares, n+1, n0, W)\n",
    "    res2 = recFFT2(impares, n+1, n0, W)\n",
    "    #print(res1)\n",
    "    #print(res2)\n",
    "    for i in range(x.size >> 1):\n",
    "        w = W[(n+1)*i]\n",
    "        res[i] = res1[i] + w * res2[i]\n",
    "        res[i + (x.size >> 1)] = res1[i] - w * res2[i]\n",
    "    return res"
   ]
  },
  {
   "cell_type": "code",
   "execution_count": 6,
   "metadata": {},
   "outputs": [],
   "source": [
    "def fft(x):\n",
    "    if x.size == 1:\n",
    "        return x\n",
    "    if x.size == 2:\n",
    "        return recFFT(x, 1, 1, np.array([-1,1], dtype=complex))\n",
    "    n = getRoundSquare(x.size)\n",
    "    W = complexUnityRoots(1 << n)\n",
    "    #print(n)\n",
    "    return recFFT(x, 0, n, W)\n",
    "\n",
    "def recFFT(x, n, N, W):\n",
    "    #2^n-esima raiz da un. de 2^N raízes\n",
    "    if (n == N) :\n",
    "        return x\n",
    "    impares = np.empty(x.size >> 1, dtype=complex)\n",
    "    pares = np.empty(x.size >> 1, dtype=complex)\n",
    "    res = np.empty(x.size, dtype=complex)\n",
    "    for i in range(x.size) :\n",
    "        if (i - ((i >> 1) << 1)) :\n",
    "            impares[i >> 1] = x[i]\n",
    "        else :\n",
    "            pares[(i >> 1)] = x[i]\n",
    "    res1 = recFFT(pares, n+1, N, W)\n",
    "    res2 = recFFT(impares, n+1, N, W)\n",
    "    #print(res1)\n",
    "    #print(res2)\n",
    "    for i in range(x.size >> 1):\n",
    "        #if n == N - 1:\n",
    "         #   w =  \n",
    "        w = W[((n+1)*i)]\n",
    "        #print(\"n = \" + str(n) + \" e w= \" + str(w) + \" ; índice = \" + str(((n+1)*i)))\n",
    "        res[i] = res1[i] + w * res2[i]\n",
    "        res[i + (x.size >> 1)] = res1[i] - w * res2[i]\n",
    "    return res"
   ]
  },
  {
   "cell_type": "code",
   "execution_count": 7,
   "metadata": {},
   "outputs": [],
   "source": [
    "def dftbruta(x):\n",
    "    N = x.size\n",
    "    n = getRoundSquare(N)\n",
    "    W = complexUnityRoots(N)\n",
    "    #print(W)\n",
    "    res = np.zeros(N, dtype=complex)\n",
    "    for i in range(N):\n",
    "        for k in range(N):\n",
    "            res[i] = res[i] + x[k] * W[(i*k) % N]\n",
    "    return res"
   ]
  },
  {
   "cell_type": "code",
   "execution_count": 8,
   "metadata": {},
   "outputs": [
    {
     "data": {
      "text/plain": [
       "array([10.+0.j, -2.+2.j, -2.+0.j, -2.-2.j])"
      ]
     },
     "execution_count": 8,
     "metadata": {},
     "output_type": "execute_result"
    }
   ],
   "source": [
    "fft(np.array([1,2,3,4],dtype=complex))"
   ]
  },
  {
   "cell_type": "code",
   "execution_count": 9,
   "metadata": {},
   "outputs": [
    {
     "data": {
      "text/plain": [
       "array([10.+0.j, -2.+2.j, -2.+0.j, -2.-2.j])"
      ]
     },
     "execution_count": 9,
     "metadata": {},
     "output_type": "execute_result"
    }
   ],
   "source": [
    "dftbruta(np.array([1,2,3,4],dtype=complex))"
   ]
  },
  {
   "cell_type": "code",
   "execution_count": 10,
   "metadata": {},
   "outputs": [],
   "source": [
    "def IBR(N, NU):\n",
    "    x = 0\n",
    "    for i in range(NU):\n",
    "        c = N >> 1\n",
    "        x = (x << 1) + (N - (c << 1))\n",
    "        N = c\n",
    "    return x\n",
    "\n",
    "def FFTinplace(x):\n",
    "    #x array de tamanho 2^gama\n",
    "    N = x.size\n",
    "    W = np.empty(N, dtype=complex)\n",
    "    W = complexUnityRoots(N)\n",
    "#     for i in range(N >> 2) :\n",
    "#         W[i] = np.complex(str(np.cos((2*np.pi*i) / N)) + \"+\" + str(np.sin((2*np.pi*i) / N)) + \"j\")\n",
    "#         W[i + (N >> 1)] = - W[i]\n",
    "#         W[i + (N >> 2)] = np.complex(str(-W[i].imag) + \"+\" + str(W[i].real) +\"j\")\n",
    "#         W[i + (N >> 1) + (N >> 2)] = -W[i + (N >> 2)]\n",
    "#     print(W)\n",
    "    NU = getRoundSquare(N)\n",
    "    N2 = N >> 1\n",
    "    NU1 = NU - 1\n",
    "    k = 0\n",
    "    for l in range(NU):\n",
    "        while (k < N-1):\n",
    "            for i in range(N2):\n",
    "                M = k >> NU1 #(int(k/2**NU1))\n",
    "                P = IBR(M, NU)\n",
    "                T1 = W[P] * x[k+N2]\n",
    "                x[k+N2] = x[k] - T1\n",
    "                x[k] = x[k] + T1\n",
    "                k += 1\n",
    "            k += N2\n",
    "        N2 >>= 1 # N2 /= 2^1\n",
    "        NU1 -= 1\n",
    "        k = 0\n",
    "    while (k != N-1):\n",
    "        i = IBR(k, NU)\n",
    "        if (i > k):\n",
    "            T1 = x[k]\n",
    "            x[k] = x[i]\n",
    "            x[i] = T1\n",
    "        k += 1\n",
    "    return x"
   ]
  },
  {
   "cell_type": "code",
   "execution_count": 11,
   "metadata": {},
   "outputs": [
    {
     "data": {
      "text/plain": [
       "array([28.+0.j        , -4.+9.65685425j, -4.+4.j        , -4.+1.65685425j,\n",
       "       -4.+0.j        , -4.-1.65685425j, -4.-4.j        , -4.-9.65685425j])"
      ]
     },
     "execution_count": 11,
     "metadata": {},
     "output_type": "execute_result"
    }
   ],
   "source": [
    "y = np.array([0,1,2,3,4,5,6,7],dtype=complex)\n",
    "FFTinplace(y.copy())"
   ]
  },
  {
   "cell_type": "code",
   "execution_count": 12,
   "metadata": {},
   "outputs": [
    {
     "data": {
      "text/plain": [
       "array([28.+0.j        , -4.+9.65685425j, -4.+4.j        , -4.+1.65685425j,\n",
       "       -4.+0.j        , -4.-1.65685425j, -4.-4.j        , -4.-9.65685425j])"
      ]
     },
     "execution_count": 12,
     "metadata": {},
     "output_type": "execute_result"
    }
   ],
   "source": [
    "np.fft.fft([0,1,2,3,4,5,6,7])"
   ]
  },
  {
   "cell_type": "code",
   "execution_count": 13,
   "metadata": {},
   "outputs": [],
   "source": [
    "def meufft2(x):\n",
    "    #x um ndarray uint8 com dimensões potencias de 2\n",
    "    x = np.array(x, dtype='complex128')\n",
    "    [M,N] = x.shape\n",
    "    for i in range(M):\n",
    "        FFTinplace(x[i])\n",
    "    return x"
   ]
  },
  {
   "cell_type": "code",
   "execution_count": 14,
   "metadata": {},
   "outputs": [
    {
     "ename": "ValueError",
     "evalue": "not enough values to unpack (expected 2, got 0)",
     "output_type": "error",
     "traceback": [
      "\u001b[0;31m---------------------------------------------------------------------------\u001b[0m",
      "\u001b[0;31mValueError\u001b[0m                                Traceback (most recent call last)",
      "\u001b[0;32m<ipython-input-14-fbd6255d6cd2>\u001b[0m in \u001b[0;36m<module>\u001b[0;34m()\u001b[0m\n\u001b[1;32m      1\u001b[0m \u001b[0maddasd\u001b[0m \u001b[0;34m=\u001b[0m \u001b[0mcv2\u001b[0m\u001b[0;34m.\u001b[0m\u001b[0mimread\u001b[0m\u001b[0;34m(\u001b[0m\u001b[0;34m'457t.jpg'\u001b[0m\u001b[0;34m,\u001b[0m\u001b[0;36m0\u001b[0m\u001b[0;34m)\u001b[0m\u001b[0;34m\u001b[0m\u001b[0m\n\u001b[0;32m----> 2\u001b[0;31m \u001b[0mM\u001b[0m \u001b[0;34m=\u001b[0m \u001b[0mmeufft2\u001b[0m\u001b[0;34m(\u001b[0m\u001b[0maddasd\u001b[0m\u001b[0;34m)\u001b[0m\u001b[0;34m\u001b[0m\u001b[0m\n\u001b[0m\u001b[1;32m      3\u001b[0m \u001b[0mMa\u001b[0m \u001b[0;34m=\u001b[0m \u001b[0;36m20\u001b[0m\u001b[0;34m*\u001b[0m\u001b[0mnp\u001b[0m\u001b[0;34m.\u001b[0m\u001b[0mlog\u001b[0m\u001b[0;34m(\u001b[0m\u001b[0mnp\u001b[0m\u001b[0;34m.\u001b[0m\u001b[0mabs\u001b[0m\u001b[0;34m(\u001b[0m\u001b[0mM\u001b[0m\u001b[0;34m)\u001b[0m\u001b[0;34m)\u001b[0m\u001b[0;34m\u001b[0m\u001b[0m\n\u001b[1;32m      4\u001b[0m \u001b[0mMt\u001b[0m \u001b[0;34m=\u001b[0m \u001b[0mnp\u001b[0m\u001b[0;34m.\u001b[0m\u001b[0mfft\u001b[0m\u001b[0;34m.\u001b[0m\u001b[0mfftshift\u001b[0m\u001b[0;34m(\u001b[0m\u001b[0mMa\u001b[0m\u001b[0;34m)\u001b[0m\u001b[0;34m\u001b[0m\u001b[0m\n\u001b[1;32m      5\u001b[0m \u001b[0;34m\u001b[0m\u001b[0m\n",
      "\u001b[0;32m<ipython-input-13-56b79ae69609>\u001b[0m in \u001b[0;36mmeufft2\u001b[0;34m(x)\u001b[0m\n\u001b[1;32m      2\u001b[0m     \u001b[0;31m#x um ndarray uint8 com dimensões potencias de 2\u001b[0m\u001b[0;34m\u001b[0m\u001b[0;34m\u001b[0m\u001b[0m\n\u001b[1;32m      3\u001b[0m     \u001b[0mx\u001b[0m \u001b[0;34m=\u001b[0m \u001b[0mnp\u001b[0m\u001b[0;34m.\u001b[0m\u001b[0marray\u001b[0m\u001b[0;34m(\u001b[0m\u001b[0mx\u001b[0m\u001b[0;34m,\u001b[0m \u001b[0mdtype\u001b[0m\u001b[0;34m=\u001b[0m\u001b[0;34m'complex128'\u001b[0m\u001b[0;34m)\u001b[0m\u001b[0;34m\u001b[0m\u001b[0m\n\u001b[0;32m----> 4\u001b[0;31m     \u001b[0;34m[\u001b[0m\u001b[0mM\u001b[0m\u001b[0;34m,\u001b[0m\u001b[0mN\u001b[0m\u001b[0;34m]\u001b[0m \u001b[0;34m=\u001b[0m \u001b[0mx\u001b[0m\u001b[0;34m.\u001b[0m\u001b[0mshape\u001b[0m\u001b[0;34m\u001b[0m\u001b[0m\n\u001b[0m\u001b[1;32m      5\u001b[0m     \u001b[0;32mfor\u001b[0m \u001b[0mi\u001b[0m \u001b[0;32min\u001b[0m \u001b[0mrange\u001b[0m\u001b[0;34m(\u001b[0m\u001b[0mM\u001b[0m\u001b[0;34m)\u001b[0m\u001b[0;34m:\u001b[0m\u001b[0;34m\u001b[0m\u001b[0m\n\u001b[1;32m      6\u001b[0m         \u001b[0mFFTinplace\u001b[0m\u001b[0;34m(\u001b[0m\u001b[0mx\u001b[0m\u001b[0;34m[\u001b[0m\u001b[0mi\u001b[0m\u001b[0;34m]\u001b[0m\u001b[0;34m)\u001b[0m\u001b[0;34m\u001b[0m\u001b[0m\n",
      "\u001b[0;31mValueError\u001b[0m: not enough values to unpack (expected 2, got 0)"
     ]
    }
   ],
   "source": [
    "addasd = cv2.imread('457t.jpg',0)\n",
    "M = meufft2(addasd)\n",
    "Ma = 20*np.log(np.abs(M))\n",
    "Mt = np.fft.fftshift(Ma)\n",
    "\n",
    "plt.subplot(121),plt.imshow(addasd, cmap = 'gray')\n",
    "plt.subplot(122),plt.imshow(Mt, cmap = 'gray')\n",
    "plt.rcParams[\"figure.figsize\"] = np.array([20,10])\n",
    "plt.figure(figsize=(20,10))"
   ]
  },
  {
   "cell_type": "code",
   "execution_count": null,
   "metadata": {},
   "outputs": [],
   "source": [
    "# a partir daqui, vou usar a FFT do numpy por ser mais rápida e mais precisa (o algoritmo apresenta erros numericos com arrays grandes eu acredito),\n",
    "# além de funcionar com valores que não são potência de 2"
   ]
  },
  {
   "cell_type": "code",
   "execution_count": null,
   "metadata": {},
   "outputs": [],
   "source": [
    "#definindo alguns filtros de frequência:\n",
    "def passaAltaGauss(M,N,u,v,desv):\n",
    "    #filtro passa alta dominio de frequencia de figura com tamanho MxN\n",
    "    D2 = (u - M/2)**2 + (v - N/2)**2\n",
    "    return 1 - np.exp(-D2/(2*desv**2))\n",
    "\n",
    "def passaBaixaGauss(M,N,u,v,desv):\n",
    "    D2 = (u - M/2)**2 + (v - N/2)**2\n",
    "    return np.exp(-D2/(2*desv**2))\n",
    "\n",
    "def passaBaixaButterworth(M,N,u,v,D0,n):\n",
    "    D2 = (u - M/2)**2 + (v - N/2)**2\n",
    "    return 1 / (1 + (D2/(D0**2))**n)\n",
    "\n",
    "def passaBaixaButterworth(M,N,u,v,D0,n):\n",
    "    D2 = (u - M/2)**2 + (v - N/2)**2\n",
    "    return 1 / (1 + (D2/(D0**2))**n)"
   ]
  },
  {
   "cell_type": "code",
   "execution_count": null,
   "metadata": {},
   "outputs": [],
   "source": [
    "img = cv2.imread('teste3.jpg',0)\n",
    "# 426x640\n",
    "M = 426\n",
    "N = 640\n",
    "f = np.fft.fft2(img)\n",
    "fshift = np.fft.fftshift(f)\n",
    "magnitude_spectrum = 20*np.log(np.abs(fshift))\n",
    "\n",
    "plt.subplot(121),plt.imshow(img, cmap = 'gray')\n",
    "plt.subplot(122),plt.imshow(magnitude_spectrum, cmap = 'gray')\n",
    "plt.rcParams[\"figure.figsize\"] = np.array([20,10])\n",
    "plt.figure(figsize=(20,10))"
   ]
  },
  {
   "cell_type": "code",
   "execution_count": null,
   "metadata": {},
   "outputs": [],
   "source": [
    "for i in range(M):\n",
    "    for j in range(N):\n",
    "        fshift[i][j] = fshift[i][j] * passaAltaGauss(M,N,i,j,190)"
   ]
  },
  {
   "cell_type": "code",
   "execution_count": null,
   "metadata": {},
   "outputs": [],
   "source": [
    "magnitude_spectrum2 = 20*np.log(np.abs(fshift))\n",
    "\n",
    "plt.subplot(121),plt.imshow(np.uint8(np.fft.ifft2(np.fft.ifftshift(fshift))), cmap = 'gray')\n",
    "plt.subplot(122),plt.imshow(magnitude_spectrum2, cmap = 'gray')\n",
    "plt.rcParams[\"figure.figsize\"] = np.array([20,10])\n",
    "plt.figure(figsize=(20,10))"
   ]
  },
  {
   "cell_type": "code",
   "execution_count": null,
   "metadata": {},
   "outputs": [],
   "source": [
    "plt.subplot(121),plt.imshow(np.uint8(np.fft.ifft2(f + np.fft.ifftshift(fshift))), cmap = 'gray')\n",
    "plt.rcParams[\"figure.figsize\"] = np.array([20,10])\n",
    "plt.figure(figsize=(20,10))\n"
   ]
  },
  {
   "cell_type": "code",
   "execution_count": null,
   "metadata": {},
   "outputs": [],
   "source": [
    "img2 = cv2.imread('alias-ex.jpg',0)\n",
    "[M2, N2] = img2.shape\n",
    "f2 = np.fft.fft2(img2)\n",
    "fshift2 = np.fft.fftshift(f2)\n",
    "magnitude_spectrum2 = 20*np.log(np.abs(fshift2))\n",
    "\n",
    "plt.subplot(121),plt.imshow(img2, cmap = 'gray')\n",
    "plt.subplot(122),plt.imshow(magnitude_spectrum2, cmap = 'gray')\n",
    "plt.rcParams[\"figure.figsize\"] = np.array([20,10]) \n",
    "plt.figure(figsize=(20,10))"
   ]
  },
  {
   "cell_type": "code",
   "execution_count": null,
   "metadata": {},
   "outputs": [],
   "source": [
    "#tentando tirar o alias:\n",
    "nfshift2 = fshift2.copy()\n",
    "for i in range(0,150):\n",
    "    for j in range(0,N2):\n",
    "        nfshift2[i,j] = 0.00005\n",
    "        nfshift2[376-i,j] = 0.00005\n",
    "        nfshift2[i,578-j] = 0.00005\n",
    "        nfshift2[376-i,578-j] = 0.00005"
   ]
  },
  {
   "cell_type": "code",
   "execution_count": null,
   "metadata": {},
   "outputs": [],
   "source": [
    "#o alias da parte de cima é mascarado; mas cria um serrilhado por ter usado um filtro muito ideal\n",
    "#(transformada de fourier de um sinal retangular é a função sinc)\n",
    "ms = 20*np.log(np.abs(nfshift2))\n",
    "plt.subplot(121),plt.imshow(np.uint8(np.fft.ifft2(np.fft.ifftshift(nfshift2))), cmap = 'gray')\n",
    "plt.subplot(122),plt.imshow(ms, cmap = 'gray')\n",
    "plt.rcParams[\"figure.figsize\"] = np.array([20,10])\n",
    "plt.figure(figsize=(20,10))"
   ]
  },
  {
   "cell_type": "code",
   "execution_count": null,
   "metadata": {},
   "outputs": [],
   "source": [
    "DAT = fshift2.copy()\n",
    "for i in range(M2):\n",
    "    for j in range(N2):\n",
    "        DAT[i,j] = DAT[i,j] * passaAltaGauss(M,N,i,j,80)"
   ]
  },
  {
   "cell_type": "code",
   "execution_count": null,
   "metadata": {},
   "outputs": [],
   "source": [
    "#filtro passa-alta retorna áreas com maior frequência da imagem\n",
    "#a frequência está associada a mudanças abruptas no tom.\n",
    "#assim, filtros que passam as altas frequências funcionam como detectores de arestas\n",
    "msab = 20*np.log(np.abs(DAT))\n",
    "plt.subplot(121),plt.imshow(np.uint8(np.fft.ifft2(np.fft.ifftshift(DAT))), cmap = 'gray')\n",
    "plt.subplot(122),plt.imshow(msab, cmap = 'gray')\n",
    "plt.rcParams[\"figure.figsize\"] = np.array([20,10])\n",
    "plt.figure(figsize=(20,10))"
   ]
  },
  {
   "cell_type": "code",
   "execution_count": null,
   "metadata": {},
   "outputs": [],
   "source": [
    "img4 = cv2.imread('teste4.png',0)\n",
    "(M4, N4) = img4.shape\n",
    "f4 = np.fft.fft2(img4)\n",
    "fshift4 = np.fft.fftshift(f4)\n",
    "magnitude_spectrum = 20*np.log(np.abs(fshift4))\n",
    "\n",
    "plt.subplot(121),plt.imshow(img4, cmap = 'gray')\n",
    "plt.subplot(122),plt.imshow(magnitude_spectrum, cmap = 'gray')\n",
    "plt.rcParams[\"figure.figsize\"] = np.array([20,10])\n",
    "plt.figure(figsize=(20,10))"
   ]
  },
  {
   "cell_type": "code",
   "execution_count": null,
   "metadata": {},
   "outputs": [],
   "source": [
    "fsm = fshift4.copy()\n",
    "for i in range(M4):\n",
    "    for j in range(N4):\n",
    "        fsm[i,j] = fsm[i,j] * passaAltaGauss(M,N,i,j,70)\n",
    "        \n",
    "magnitude_spectrum4 = 20*np.log(np.abs(fshift))\n",
    "\n",
    "plt.subplot(121),plt.imshow(np.uint8(np.fft.ifft2(np.fft.ifftshift(fsm))), cmap = 'gray')\n",
    "plt.subplot(122),plt.imshow(magnitude_spectrum4, cmap = 'gray')\n",
    "plt.rcParams[\"figure.figsize\"] = np.array([20,10])\n",
    "plt.figure(figsize=(20,10))"
   ]
  },
  {
   "cell_type": "code",
   "execution_count": null,
   "metadata": {},
   "outputs": [],
   "source": [
    "plt.subplot(121),plt.imshow(np.uint8(np.fft.ifft2(np.fft.ifftshift(fshift4 + fsm))), cmap = 'gray')\n",
    "plt.rcParams[\"figure.figsize\"] = np.array([20,10])\n",
    "plt.figure(figsize=(20,10))"
   ]
  },
  {
   "cell_type": "code",
   "execution_count": null,
   "metadata": {},
   "outputs": [],
   "source": []
  },
  {
   "cell_type": "code",
   "execution_count": null,
   "metadata": {},
   "outputs": [],
   "source": []
  }
 ],
 "metadata": {
  "kernelspec": {
   "display_name": "Python 3",
   "language": "python",
   "name": "python3"
  },
  "language_info": {
   "codemirror_mode": {
    "name": "ipython",
    "version": 3
   },
   "file_extension": ".py",
   "mimetype": "text/x-python",
   "name": "python",
   "nbconvert_exporter": "python",
   "pygments_lexer": "ipython3",
   "version": "3.7.0"
  }
 },
 "nbformat": 4,
 "nbformat_minor": 2
}
